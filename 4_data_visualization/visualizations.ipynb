{
 "cells": [
  {
   "cell_type": "code",
   "execution_count": null,
   "metadata": {},
   "outputs": [],
   "source": [
    "import pandas as pd\n",
    "import seaborn as sns\n",
    "import matplotlib.pyplot as plt\n",
    "\n",
    "# Load the cleaned dataset\n",
    "df = pd.read_csv('../data/processed/lung_cancer_cleaned.csv')\n",
    "\n",
    "# Bar chart: Lung cancer frequency by gender\n",
    "plt.figure(figsize=(8, 6))\n",
    "sns.countplot(x='GENDER', hue='PULMONARY_DISEASE', data=df)\n",
    "plt.title('Lung Cancer Frequency by Gender')\n",
    "plt.savefig('plots/lung_cancer_by_gender.png')\n",
    "plt.show()\n",
    "\n",
    "# Pie chart: Smoking vs non-smoking distribution\n",
    "plt.figure(figsize=(8, 8))\n",
    "df['SMOKING'].value_counts().plot.pie(autopct='%1.1f%%')\n",
    "plt.title('Smoking vs Non-Smoking Distribution')\n",
    "plt.ylabel('')\n",
    "plt.savefig('plots/smoking_distribution.png')\n",
    "plt.show()\n",
    "\n",
    "# Histogram: Age distribution\n",
    "plt.figure(figsize=(8, 6))\n",
    "sns.histplot(df['AGE'], bins=20, kde=True)\n",
    "plt.title('Age Distribution')\n",
    "plt.savefig('plots/age_distribution.png')\n",
    "plt.show()\n",
    "\n",
    "# Scatter plot: Oxygen Saturation vs Disease\n",
    "plt.figure(figsize=(8, 6))\n",
    "sns.scatterplot(x='OXYGEN_SATURATION', y='PULMONARY_DISEASE', data=df)\n",
    "plt.title('Oxygen Saturation vs. Lung Cancer')\n",
    "plt.savefig('plots/oxygen_saturation_vs_disease.png')\n",
    "plt.show()"
   ]
  }
 ],
 "metadata": {
  "kernelspec": {
   "display_name": "Python 3",
   "language": "python",
   "name": "python3"
  },
  "language_info": {
   "codemirror_mode": {
    "name": "ipython",
    "version": 3
   },
   "file_extension": ".py",
   "mimetype": "text/x-python",
   "name": "python",
   "nbconvert_exporter": "python",
   "pygments_lexer": "ipython3",
   "version": "3.10.18"
  }
 },
 "nbformat": 4,
 "nbformat_minor": 2
}